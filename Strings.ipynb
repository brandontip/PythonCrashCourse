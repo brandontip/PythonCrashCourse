{
 "cells": [
  {
   "cell_type": "markdown",
   "metadata": {},
   "source": [
    "Commonly Used: <br>\n",
    "&emsp;    .title() <br>\n",
    "&emsp;    .upper() & .lower() <br>\n",
    "&emsp;    \\t \\n <br>"
   ]
  },
  {
   "cell_type": "raw",
   "metadata": {},
   "source": [
    "Strings are declared with either \" \" or  ' '"
   ]
  },
  {
   "cell_type": "code",
   "execution_count": 1,
   "metadata": {},
   "outputs": [],
   "source": [
    "message1 = \"this is the first message\"\n",
    "message2 = 'this is the second message'"
   ]
  },
  {
   "cell_type": "code",
   "execution_count": 3,
   "metadata": {},
   "outputs": [
    {
     "name": "stdout",
     "output_type": "stream",
     "text": [
      "this is the first message\n",
      "This Is The First Message\n",
      "THIS IS THE FIRST MESSAGE\n",
      "this is the first message\n"
     ]
    }
   ],
   "source": [
    "print(message1)\n",
    "print(message1.title())\n",
    "print(message1.upper())\n",
    "print(message1.lower())"
   ]
  },
  {
   "cell_type": "markdown",
   "metadata": {},
   "source": [
    "You can use a variables value inside of a string using f. f stands for format"
   ]
  },
  {
   "cell_type": "code",
   "execution_count": 8,
   "metadata": {},
   "outputs": [
    {
     "name": "stdout",
     "output_type": "stream",
     "text": [
      "Ada Lovelace\n"
     ]
    }
   ],
   "source": [
    "first_name = 'Ada'\n",
    "last_name = 'Lovelace'\n",
    "full_name = f\"{first_name} {last_name}\"\n",
    "print(full_name)\n"
   ]
  },
  {
   "cell_type": "code",
   "execution_count": 20,
   "metadata": {},
   "outputs": [
    {
     "name": "stdout",
     "output_type": "stream",
     "text": [
      "\tPython\n",
      "Python\n",
      "Languages : \n",
      "Python\n",
      "C\n",
      "Java\n",
      "Hello hi\n",
      "Hellohi\n"
     ]
    }
   ],
   "source": [
    "#Adding Space and lines\n",
    "print(\"\\tPython\")\n",
    "print(\"Python\")\n",
    "print(\"Languages : \\nPython\\nC\\nJava\")\n",
    "# You can use .strip() to remove whitespace, or use lstrip or rstrip\n",
    "hello = \"Hello \"\n",
    "print(hello+\"hi\")\n",
    "print(hello.rstrip()+\"hi\")\n"
   ]
  },
  {
   "cell_type": "markdown",
   "metadata": {},
   "source": [
    "In order to use ', you must define the string using \"\""
   ]
  },
  {
   "cell_type": "code",
   "execution_count": 21,
   "metadata": {},
   "outputs": [
    {
     "name": "stdout",
     "output_type": "stream",
     "text": [
      "Who's there\n"
     ]
    }
   ],
   "source": [
    "print(\"Who's there\")"
   ]
  },
  {
   "cell_type": "code",
   "execution_count": null,
   "metadata": {},
   "outputs": [],
   "source": []
  }
 ],
 "metadata": {
  "kernelspec": {
   "display_name": "Python 3",
   "language": "python",
   "name": "python3"
  },
  "language_info": {
   "codemirror_mode": {
    "name": "ipython",
    "version": 3
   },
   "file_extension": ".py",
   "mimetype": "text/x-python",
   "name": "python",
   "nbconvert_exporter": "python",
   "pygments_lexer": "ipython3",
   "version": "3.7.6"
  }
 },
 "nbformat": 4,
 "nbformat_minor": 4
}
