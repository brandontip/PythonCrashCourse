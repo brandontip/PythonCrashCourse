{
 "cells": [
  {
   "cell_type": "markdown",
   "metadata": {},
   "source": [
    "Commonly Used: <br>\n",
    "&emsp;     not in <br>\n"
   ]
  },
  {
   "cell_type": "code",
   "execution_count": 4,
   "metadata": {},
   "outputs": [
    {
     "name": "stdout",
     "output_type": "stream",
     "text": [
      "banned\n"
     ]
    }
   ],
   "source": [
    "banned_users = ['Joe', 'Bob', 'Larry']\n",
    "user = 'Joe'\n",
    "if user not in banned_users:\n",
    "    print('ok')\n",
    "else:\n",
    "    print('banned')"
   ]
  },
  {
   "cell_type": "code",
   "execution_count": 9,
   "metadata": {},
   "outputs": [
    {
     "name": "stdout",
     "output_type": "stream",
     "text": [
      "admission is $5.00\n"
     ]
    }
   ],
   "source": [
    "age = 15\n",
    "if age < 6:\n",
    "    print('admission is free')\n",
    "elif age < 12:\n",
    "    print('admission is $1.00')\n",
    "else:\n",
    "    print('admission is $5.00')"
   ]
  },
  {
   "cell_type": "code",
   "execution_count": 11,
   "metadata": {},
   "outputs": [
    {
     "name": "stdout",
     "output_type": "stream",
     "text": [
      "Your admission cost is $1.5.\n"
     ]
    }
   ],
   "source": [
    "#better\n",
    "age = 10\n",
    "if age < 6:\n",
    "    price = 0\n",
    "elif age < 12:\n",
    "    price = 1.50\n",
    "else:\n",
    "    price = 5\n",
    "print(f\"Your admission cost is ${price}.\")"
   ]
  },
  {
   "cell_type": "markdown",
   "metadata": {},
   "source": [
    "The following conditional checks if a list is empty"
   ]
  },
  {
   "cell_type": "code",
   "execution_count": 17,
   "metadata": {},
   "outputs": [
    {
     "name": "stdout",
     "output_type": "stream",
     "text": [
      "Adding Tomato.\n",
      "We are out of Mushrooms.\n",
      "Adding Onion.\n",
      "Pizza is ready!\n"
     ]
    }
   ],
   "source": [
    "requested_toppings = ['Tomato','Mushrooms','Onion']\n",
    "available_toppings = ['Tomato', 'Onion']\n",
    "if requested_toppings:\n",
    "    for each in requested_toppings:\n",
    "        if each in available_toppings:\n",
    "            print(f\"Adding {each}.\")\n",
    "        else:\n",
    "            print(f\"We are out of {each}.\")\n",
    "    print(\"Pizza is ready!\")\n",
    "else:\n",
    "    print(\"Are you sure you want a plain pizza?\")"
   ]
  },
  {
   "cell_type": "code",
   "execution_count": null,
   "metadata": {},
   "outputs": [],
   "source": []
  }
 ],
 "metadata": {
  "kernelspec": {
   "display_name": "Python 3",
   "language": "python",
   "name": "python3"
  },
  "language_info": {
   "codemirror_mode": {
    "name": "ipython",
    "version": 3
   },
   "file_extension": ".py",
   "mimetype": "text/x-python",
   "name": "python",
   "nbconvert_exporter": "python",
   "pygments_lexer": "ipython3",
   "version": "3.7.6"
  }
 },
 "nbformat": 4,
 "nbformat_minor": 4
}
